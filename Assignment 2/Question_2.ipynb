{
  "nbformat": 4,
  "nbformat_minor": 0,
  "metadata": {
    "colab": {
      "provenance": []
    },
    "kernelspec": {
      "name": "python3",
      "display_name": "Python 3"
    },
    "language_info": {
      "name": "python"
    }
  },
  "cells": [
    {
      "cell_type": "code",
      "execution_count": null,
      "metadata": {
        "id": "J82bqVuTG-ra"
      },
      "outputs": [],
      "source": [
        "# 27-March-2024\n",
        "# CSC354 – Assignmen2 – ML – Decision Trees\n",
        "# Abdul Rehman Butt\n",
        "# FA21-BSE-098\n",
        "# Performing a regression task on a dataset called the Cars-dataset.\n",
        "# The objective is to predict the selling price of the car.\n",
        "# I will be using Decision Tree Regressor."
      ]
    },
    {
      "cell_type": "code",
      "source": [
        "import numpy as np\n",
        "import pandas as pd\n",
        "from sklearn.model_selection import train_test_split, RandomizedSearchCV, GridSearchCV\n",
        "from sklearn.tree import DecisionTreeRegressor\n",
        "from sklearn.metrics import mean_squared_error\n",
        "\n",
        "dataset = pd.read_csv(\"cars-dataset.csv\")\n",
        "\n",
        "X = dataset.drop(columns=['selling_price'])\n",
        "y = dataset['selling_price']\n",
        "\n",
        "X_train, X_test, y_train, y_test = train_test_split(X, y, test_size=0.2, random_state=42)\n",
        "\n",
        "dt_regressor = DecisionTreeRegressor(random_state=42)\n",
        "dt_regressor.fit(X_train, y_train)\n",
        "y_pred = dt_regressor.predict(X_test)\n",
        "\n",
        "mse = mean_squared_error(y_test, y_pred)\n",
        "print(\"Mean Squared Error:\", mse)\n",
        "\n"
      ],
      "metadata": {
        "id": "peO_SsdsHcca"
      },
      "execution_count": null,
      "outputs": []
    },
    {
      "cell_type": "code",
      "source": [
        "param_grid = {\n",
        "    \"max_depth\": [5, 10, 15, 20],\n",
        "    \"min_samples_split\": [2, 5, 8],\n",
        "    \"min_samples_leaf\": [1, 2, 4],\n",
        "    \"criterion\": [\"mse\", \"mae\"]\n",
        "}\n",
        "\n",
        "dt_random_search = RandomizedSearchCV(DecisionTreeRegressor(random_state=42), param_distributions=param_grid, n_iter=100, cv=5, random_state=42)\n",
        "dt_random_search.fit(X_train, y_train)\n",
        "dt_random_search_best_params = dt_random_search.best_params_\n",
        "\n",
        "dt_grid_search = GridSearchCV(DecisionTreeRegressor(random_state=42), param_grid=param_grid, cv=5)\n",
        "dt_grid_search.fit(X_train, y_train)\n",
        "dt_grid_search_best_params = dt_grid_search.best_params_\n",
        "\n",
        "dt_regressor_best_random = DecisionTreeRegressor(**dt_random_search_best_params, random_state=42)\n",
        "dt_regressor_best_grid = DecisionTreeRegressor(**dt_grid_search_best_params, random_state=42)\n",
        "\n",
        "dt_regressor_best_random.fit(X_train, y_train)\n",
        "dt_regressor_best_grid.fit(X_train, y_train)\n",
        "\n",
        "y_pred_best_random = dt_regressor_best_random.predict(X_test)\n",
        "y_pred_best_grid = dt_regressor_best_grid.predict(X_test)\n",
        "\n",
        "mse_best_random = mean_squared_error(y_test, y_pred_best_random)\n",
        "mse_best_grid = mean_squared_error(y_test, y_pred_best_grid)\n",
        "\n",
        "print(\"Random Search Mean Squared Error:\", mse_best_random)\n",
        "print(\"Grid Search Mean Squared Error:\", mse_best_grid)\n"
      ],
      "metadata": {
        "id": "XwBCCfGsH5iJ"
      },
      "execution_count": null,
      "outputs": []
    }
  ]
}