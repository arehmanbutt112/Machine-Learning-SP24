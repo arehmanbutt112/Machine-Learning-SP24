{
  "nbformat": 4,
  "nbformat_minor": 0,
  "metadata": {
    "colab": {
      "provenance": []
    },
    "kernelspec": {
      "name": "python3",
      "display_name": "Python 3"
    },
    "language_info": {
      "name": "python"
    }
  },
  "cells": [
    {
      "cell_type": "code",
      "execution_count": null,
      "metadata": {
        "id": "6fTViwUCEDd8"
      },
      "outputs": [],
      "source": [
        "# 27-March-2024\n",
        "# CSC354 – Assignmen2 – ML – Decision Trees\n",
        "# Abdul Rehman Butt\n",
        "# FA21-BSE-098\n",
        "# Performing a classification task on a dataset called the Datasaurus Dozen.\n",
        "# The objective is to predict the type of dataset.\n",
        "# I will be using J48 and Random Forest classifiers."
      ]
    },
    {
      "cell_type": "code",
      "source": [
        "import numpy as np\n",
        "import pandas as pd\n",
        "from sklearn.model_selection import train_test_split, RandomizedSearchCV, GridSearchCV\n",
        "from sklearn.tree import DecisionTreeClassifier\n",
        "from sklearn.ensemble import RandomForestClassifier\n",
        "from sklearn.metrics import accuracy_score\n",
        "\n",
        "\n",
        "dataset = pd.read_csv(\"datasaurus\")\n",
        "\n",
        "X = dataset.drop(columns=['dataset'])\n",
        "y = dataset['dataset']\n",
        "\n",
        "X_train, X_test, y_train, y_test = train_test_split(X, y, test_size=0.25, random_state=42)\n",
        "\n",
        "j48_default = DecisionTreeClassifier()\n",
        "j48_default.fit(X_train, y_train)\n",
        "j48_pred_default = j48_default.predict(X_test)\n",
        "j48_accuracy_default = accuracy_score(y_test, j48_pred_default)\n",
        "\n",
        "print(\"J48 Default Accuracy:\", j48_accuracy_default)\n"
      ],
      "metadata": {
        "id": "hp453qZBEIWQ"
      },
      "execution_count": null,
      "outputs": []
    },
    {
      "cell_type": "code",
      "source": [
        "param_grid_j48 = {\n",
        "    \"max_depth\":  [5, 10, 15],\n",
        "    \"min_samples_split\": [2, 5, 8, 10],\n",
        "    \"min_samples_leaf\": [1, 2, 4, 8],\n",
        "    \"criterion\": [\"gini\", \"entropy\"],\n",
        "    \"max_features\": [\"auto\", \"sqrt\", \"log2\"],\n",
        "    \"splitter\": [\"best\", \"random\"]\n",
        "}\n"
      ],
      "metadata": {
        "id": "ZgQ3fcwpCZ60"
      },
      "execution_count": null,
      "outputs": []
    },
    {
      "cell_type": "code",
      "source": [
        "j48_random_search = RandomizedSearchCV(DecisionTreeClassifier(), param_distributions=param_grid_j48, n_iter=100, cv=5, random_state=42)\n",
        "j48_random_search.fit(X_train, y_train)\n",
        "j48_random_search_best_params = j48_random_search.best_params_\n",
        "\n",
        "j48_grid_search = GridSearchCV(DecisionTreeClassifier(), param_grid=param_grid_j48, cv=5)\n",
        "j48_grid_search.fit(X_train, y_train)\n",
        "j48_grid_search_best_params = j48_grid_search.best_params_\n",
        "\n",
        "j48_best_random = DecisionTreeClassifier(**j48_random_search_best_params)\n",
        "j48_best_grid = DecisionTreeClassifier(**j48_grid_search_best_params)\n",
        "\n",
        "j48_best_random.fit(X_train, y_train)\n",
        "j48_best_grid.fit(X_train, y_train)\n",
        "\n",
        "j48_pred_best_random = j48_best_random.predict(X_test)\n",
        "j48_pred_best_grid = j48_best_grid.predict(X_test)\n",
        "\n",
        "j48_accuracy_best_random = accuracy_score(y_test, j48_pred_best_random)\n",
        "j48_accuracy_best_grid = accuracy_score(y_test, j48_pred_best_grid)\n",
        "\n",
        "print(\"J48 Random Search Accuracy:\", j48_accuracy_best_random)\n",
        "print(\"J48 Grid Search Accuracy:\", j48_accuracy_best_grid)\n"
      ],
      "metadata": {
        "id": "reG5FfZyCmKq"
      },
      "execution_count": null,
      "outputs": []
    },
    {
      "cell_type": "code",
      "source": [
        "\n",
        "#Random Forest\n",
        "\n",
        "rf_default = RandomForestClassifier()\n",
        "rf_default.fit(X_train, y_train)\n",
        "rf_pred_default = rf_default.predict(X_test)\n",
        "rf_accuracy_default = accuracy_score(y_test, rf_pred_default)\n",
        "\n",
        "print(\"Random Forest Default Parameters Accuracy:\", rf_accuracy_default)\n"
      ],
      "metadata": {
        "id": "2aM0zNe_BsQg"
      },
      "execution_count": null,
      "outputs": []
    },
    {
      "cell_type": "code",
      "source": [
        "rf_random_search = RandomizedSearchCV(RandomForestClassifier(), param_distributions=param_grid_j48, n_iter=100, cv=5, random_state=42)\n",
        "rf_random_search.fit(X_train, y_train)\n",
        "rf_random_search_best_params = rf_random_search.best_params_\n",
        "\n",
        "rf_grid_search = GridSearchCV(RandomForestClassifier(), param_grid=param_grid_j48, cv=5)\n",
        "rf_grid_search.fit(X_train, y_train)\n",
        "rf_grid_search_best_params = rf_grid_search.best_params_\n",
        "\n",
        "rf_best_random = RandomForestClassifier(**rf_random_search_best_params)\n",
        "rf_best_grid = RandomForestClassifier(**rf_grid_search_best_params)\n",
        "\n",
        "rf_best_random.fit(X_train, y_train)\n",
        "rf_best_grid.fit(X_train, y_train)\n",
        "\n",
        "rf_pred_best_random = rf_best_random.predict(X_test)\n",
        "rf_pred_best_grid = rf_best_grid.predict(X_test)\n",
        "\n",
        "rf_accuracy_best_random = accuracy_score(y_test, rf_pred_best_random)\n",
        "rf_accuracy_best_grid = accuracy_score(y_test, rf_pred_best_grid)\n",
        "\n",
        "print(\"Random Forest Random Search Accuracy:\", rf_accuracy_best_random)\n",
        "print(\"Random Forest Grid Search Accuracy:\", rf_accuracy_best_grid)\n"
      ],
      "metadata": {
        "id": "lbO7AJCWCsRN"
      },
      "execution_count": null,
      "outputs": []
    }
  ]
}