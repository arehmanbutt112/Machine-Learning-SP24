{
  "nbformat": 4,
  "nbformat_minor": 0,
  "metadata": {
    "colab": {
      "provenance": []
    },
    "kernelspec": {
      "name": "python3",
      "display_name": "Python 3"
    },
    "language_info": {
      "name": "python"
    }
  },
  "cells": [
    {
      "cell_type": "code",
      "execution_count": 2,
      "metadata": {
        "colab": {
          "base_uri": "https://localhost:8080/"
        },
        "id": "7XbjF13hLQpT",
        "outputId": "b17496c7-36e9-4ed9-af54-6b158b383524"
      },
      "outputs": [
        {
          "output_type": "stream",
          "name": "stdout",
          "text": [
            "Accuracy of SVM(polynomial): 0.8333333333333334\n",
            "Accuracy of SVM(gaussian)  : 0.9\n"
          ]
        }
      ],
      "source": [
        "# 17-April-2024\n",
        "# CSC354 – Assignmen3 – ML – Support Vector Machines\n",
        "# Abdul Rehman Butt\n",
        "# FA21-BSE-098\n",
        "# Fitting SVM using polynomial (degree = 2) and Gaussian (sigma = 1) (keeping the rest of the parameter settings to default) on the famous ML Iris dataset and only the first two features\n",
        "# And then trying different combinations of C, degree and sigma parameters to get the better performance\n",
        "\n",
        "import numpy as np\n",
        "import matplotlib.pyplot as plt\n",
        "from sklearn import datasets\n",
        "from sklearn.model_selection import train_test_split\n",
        "from sklearn.svm import SVC\n",
        "from sklearn.metrics import accuracy_score\n",
        "\n",
        "iris = datasets.load_iris()\n",
        "X = iris.data[:, :2]\n",
        "y = iris.target\n",
        "\n",
        "X_train, X_test, y_train, y_test = train_test_split(X, y, test_size=0.2, random_state=42)\n",
        "\n",
        "svm_poly = SVC(kernel='poly', degree=2)\n",
        "sigma = 1\n",
        "svm_gaussian = SVC(kernel='rbf', gamma=1/(2*sigma**2))\n",
        "\n",
        "svm_poly.fit(X_train, y_train)\n",
        "svm_gaussian.fit(X_train, y_train)\n",
        "\n",
        "y_pred_poly = svm_poly.predict(X_test)\n",
        "y_pred_gaussian = svm_gaussian.predict(X_test)\n",
        "\n",
        "accuracy_poly = accuracy_score(y_test, y_pred_poly)\n",
        "accuracy_gaussian = accuracy_score(y_test, y_pred_gaussian)\n",
        "\n",
        "print(\"Accuracy of SVM(polynomial):\", accuracy_poly)\n",
        "print(\"Accuracy of SVM(gaussian)  :\", accuracy_gaussian)"
      ]
    },
    {
      "cell_type": "code",
      "source": [
        "C_values = [0.5, 3, 10]\n",
        "degree_values = [2, 3, 5]\n",
        "\n",
        "for C in C_values:\n",
        "    for degree in degree_values:\n",
        "        svm_poly = SVC(kernel='poly', degree=degree, C=C)\n",
        "        svm_poly.fit(X_train, y_train)\n",
        "        y_pred_poly = svm_poly.predict(X_test)\n",
        "        accuracy_poly = accuracy_score(y_test, y_pred_poly)\n",
        "        print(f\"Accuracy with C={C} and degree={degree}: {accuracy_poly}\")"
      ],
      "metadata": {
        "colab": {
          "base_uri": "https://localhost:8080/"
        },
        "id": "vihhiIqlSOGn",
        "outputId": "04f86ce8-1115-433f-9f71-49145354ff6f"
      },
      "execution_count": 3,
      "outputs": [
        {
          "output_type": "stream",
          "name": "stdout",
          "text": [
            "Accuracy with C=0.5 and degree=2: 0.8333333333333334\n",
            "Accuracy with C=0.5 and degree=3: 0.8333333333333334\n",
            "Accuracy with C=0.5 and degree=5: 0.8\n",
            "Accuracy with C=3 and degree=2: 0.8333333333333334\n",
            "Accuracy with C=3 and degree=3: 0.9\n",
            "Accuracy with C=3 and degree=5: 0.8\n",
            "Accuracy with C=10 and degree=2: 0.9\n",
            "Accuracy with C=10 and degree=3: 0.8\n",
            "Accuracy with C=10 and degree=5: 0.8333333333333334\n"
          ]
        }
      ]
    },
    {
      "cell_type": "code",
      "source": [
        "sigma_values = [0.1, 2, 5]\n",
        "\n",
        "for C in C_values:\n",
        "    for sigma in sigma_values:\n",
        "        svm_gaussian = SVC(kernel='rbf', gamma=1/(2*sigma**2), C=C)\n",
        "        svm_gaussian.fit(X_train, y_train)\n",
        "        y_pred_gaussian = svm_gaussian.predict(X_test)\n",
        "        accuracy_gaussian = accuracy_score(y_test, y_pred_gaussian)\n",
        "        print(f\"Accuracy with C={C} and sigma={sigma}: {accuracy_gaussian}\")"
      ],
      "metadata": {
        "colab": {
          "base_uri": "https://localhost:8080/"
        },
        "id": "0qN7nJhJSbf2",
        "outputId": "739f54ae-80c4-4782-901a-0d4374b55d0b"
      },
      "execution_count": 4,
      "outputs": [
        {
          "output_type": "stream",
          "name": "stdout",
          "text": [
            "Accuracy with C=0.5 and sigma=0.1: 0.8\n",
            "Accuracy with C=0.5 and sigma=2: 0.9\n",
            "Accuracy with C=0.5 and sigma=5: 0.7\n",
            "Accuracy with C=3 and sigma=0.1: 0.7\n",
            "Accuracy with C=3 and sigma=2: 0.9\n",
            "Accuracy with C=3 and sigma=5: 0.8333333333333334\n",
            "Accuracy with C=10 and sigma=0.1: 0.6666666666666666\n",
            "Accuracy with C=10 and sigma=2: 0.8333333333333334\n",
            "Accuracy with C=10 and sigma=5: 0.9\n"
          ]
        }
      ]
    },
    {
      "cell_type": "markdown",
      "source": [
        "1. Which kernel settings result in better performance?\n",
        "Accuracy of SVM(gaussian) with sigma=1 is better.\n",
        "2. Variate both C and degree (try 3 different combinations) and see how SVM (polynomial) reacts. Report\n",
        "your findings.\n",
        "The Accuracy with C=3 and degree=3: 0.9 and with C=10 and degree=2: 0.9. These two settings gave the best performance out all the other 7 cobinations.\n",
        "3. Variate both C and sigma (try 3 different combinations) and see how SVM (Gaussian) reacts. Report\n",
        "your findings.\n",
        "The Accuracy with C=3 and sigma=2: 0.9 and with C=10 and sigma=5: 0.9.  These two settings gave the best performance out all the other 7 cobinations."
      ],
      "metadata": {
        "id": "uv-MaifRZgX0"
      }
    }
  ]
}