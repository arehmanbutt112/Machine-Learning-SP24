{
  "nbformat": 4,
  "nbformat_minor": 0,
  "metadata": {
    "colab": {
      "provenance": []
    },
    "kernelspec": {
      "name": "python3",
      "display_name": "Python 3"
    },
    "language_info": {
      "name": "python"
    }
  },
  "cells": [
    {
      "cell_type": "code",
      "execution_count": null,
      "metadata": {
        "id": "xHSdlQlgTQr8"
      },
      "outputs": [],
      "source": [
        "# 17-April-2024\n",
        "# CSC354 – Assignmen3 – ML – Support Vector Machines\n",
        "# Abdul Rehman Butt\n",
        "# FA21-BSE-098\n",
        "\n",
        "import pandas as pd\n",
        "from sklearn.model_selection import train_test_split, GridSearchCV\n",
        "from sklearn.svm import SVC\n",
        "from sklearn.metrics import accuracy_score\n",
        "\n",
        "path = \"/content/drive/MyDrive/Machine Learning/Assignment 3/\"\n",
        "data = pd.read_csv(path + \"dataset-q-4.csv\")\n",
        "X = data.drop(data.columns[2], axis=1)\n",
        "y = data.iloc[:, 2]\n",
        "\n",
        "X_train, X_test, y_train, y_test = train_test_split(X, y, test_size=0.2, random_state=42)\n",
        "\n",
        "param_grid = {'C': [0.1, 1, 10, 100],\n",
        "              'gamma': [0.01, 0.1, 1, 10]}\n",
        "\n",
        "grid_search = GridSearchCV(SVC(kernel='rbf'), param_grid, cv=5)\n",
        "grid_search.fit(X_train, y_train)\n",
        "\n",
        "best_C = grid_search.best_params_['C']\n",
        "best_gamma = grid_search.best_params_['gamma']\n",
        "\n",
        "svm = SVC(kernel='rbf', C=best_C, gamma=best_gamma)\n",
        "svm.fit(X_train, y_train)\n",
        "\n",
        "y_pred = svm.predict(X_test)\n",
        "accuracy = accuracy_score(y_test, y_pred)\n",
        "\n",
        "optimal_parameters = {'C': best_C, 'gamma': best_gamma, 'accuracy': accuracy}\n",
        "print(\"Optimal parameters:\", optimal_parameters)\n"
      ]
    }
  ]
}